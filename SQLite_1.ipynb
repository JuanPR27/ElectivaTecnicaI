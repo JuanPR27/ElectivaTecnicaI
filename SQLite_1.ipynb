{
  "nbformat": 4,
  "nbformat_minor": 0,
  "metadata": {
    "colab": {
      "provenance": [],
      "authorship_tag": "ABX9TyO7c2mvcbwJC2UiUm4V0KLz",
      "include_colab_link": true
    },
    "kernelspec": {
      "name": "python3",
      "display_name": "Python 3"
    },
    "language_info": {
      "name": "python"
    }
  },
  "cells": [
    {
      "cell_type": "markdown",
      "metadata": {
        "id": "view-in-github",
        "colab_type": "text"
      },
      "source": [
        "<a href=\"https://colab.research.google.com/github/JuanPR27/ElectivaTecnicaI/blob/main/SQLite_1.ipynb\" target=\"_parent\"><img src=\"https://colab.research.google.com/assets/colab-badge.svg\" alt=\"Open In Colab\"/></a>"
      ]
    },
    {
      "cell_type": "markdown",
      "source": [
        "# **Gestión Básica de Inventario con SQLite3**\n",
        "\n",
        "**Autor: Juan Manuel Preciado Rojas**\n",
        "\n",
        "Bgotá, Colombia\n",
        "\n",
        "Actualizado: 9 octubre 2025\n",
        "\n",
        "Nota: Código ajustado del proporcionado por el Profesor"
      ],
      "metadata": {
        "id": "176qgzSsggLO"
      }
    },
    {
      "cell_type": "markdown",
      "source": [
        "###Instalar librerías SQLite3"
      ],
      "metadata": {
        "id": "hSrXTGZ6gtU2"
      }
    },
    {
      "cell_type": "code",
      "source": [
        "%%shell\n",
        "sudo apt-get install sqlite3"
      ],
      "metadata": {
        "colab": {
          "base_uri": "https://localhost:8080/"
        },
        "id": "NUjmCd4_gzRu",
        "outputId": "9cd10b04-5638-49f4-a387-3dea24440d0d"
      },
      "execution_count": null,
      "outputs": [
        {
          "output_type": "stream",
          "name": "stdout",
          "text": []
        }
      ]
    },
    {
      "cell_type": "markdown",
      "source": [
        "###Crear la base de datos y una tabla de inventario"
      ],
      "metadata": {
        "id": "HD7lovpahbxF"
      }
    },
    {
      "cell_type": "code",
      "source": [
        "import sqlite3\n",
        "import random\n",
        "\n",
        "#Crear la base de datos en SQLite\n",
        "conn = sqlite3.connect('productos.db')\n",
        "c = conn.cursor()"
      ],
      "metadata": {
        "id": "tQr3N9RAhiLm"
      },
      "execution_count": null,
      "outputs": []
    },
    {
      "cell_type": "code",
      "source": [
        "#Crear una tabla llamada 'inventario'\n",
        "c.execute('''\n",
        "CREATE TABLE inventario (\n",
        "    id INTEGER PRIMARY KEY,\n",
        "    nombre TEXT,\n",
        "    categoria TEXT,\n",
        "    precio DECIMAL(10, 2),\n",
        "    cantidad INTEGER,\n",
        "    proveedor TEXT,\n",
        "    fecha_ingreso DATE,\n",
        "    ubicacion TEXT\n",
        ")\n",
        "''')"
      ],
      "metadata": {
        "id": "Zbygdtqah2RO"
      },
      "execution_count": null,
      "outputs": []
    },
    {
      "cell_type": "markdown",
      "source": [
        "###Generar datos de ejemplo para la tabla"
      ],
      "metadata": {
        "id": "ixWbXjkPiF8V"
      }
    },
    {
      "cell_type": "code",
      "source": [
        "def generar_producto(id):\n",
        "    nombres = [\"Producto\", \"Artículo\", \"Objeto\"]\n",
        "    categorias = [\"Electrónica\", \"Hogar\", \"Jardín\", \"Moda\", \"Deportes\"]\n",
        "    proveedores = [\"Proveedor1\", \"Proveedor2\", \"Proveedor3\"]\n",
        "    ubicaciones = [\"Almacén A\", \"Almacén B\", \"Almacén C\"]\n",
        "\n",
        "    nombre = random.choice(nombres) + str(id)\n",
        "    categoria = random.choice(categorias)\n",
        "    precio = round(random.uniform(10.0, 500.0), 2)\n",
        "    cantidad = random.randint(1, 100)\n",
        "    proveedor = random.choice(proveedores)\n",
        "    fecha_ingreso = f\"2023-{random.randint(1, 12):02d}-{random.randint(1, 28):02d}\"\n",
        "    ubicacion = random.choice(ubicaciones)\n",
        "\n",
        "    return (id, nombre, categoria, precio, cantidad, proveedor, fecha_ingreso, ubicacion)\n",
        "\n",
        "# Insertar 1000 productos en la tabla\n",
        "productos = [generar_producto(i + 1) for i in range(10000)]\n",
        "c.executemany('INSERT INTO inventario VALUES (?, ?, ?, ?, ?, ?, ?, ?)', productos)\n",
        "\n",
        "# Guardar cambios y cerrar la conexión\n",
        "conn.commit()\n",
        "conn.close()\n",
        "\n",
        "print(\"Base de datos creada y poblada con éxito.\")"
      ],
      "metadata": {
        "id": "JrphE67QiLft"
      },
      "execution_count": null,
      "outputs": []
    },
    {
      "cell_type": "markdown",
      "source": [
        "###Consulta para mostrar todos los productos creados"
      ],
      "metadata": {
        "id": "UVfBzCDvi0n9"
      }
    },
    {
      "cell_type": "code",
      "source": [
        "import sqlite3\n",
        "\n",
        "# Conectar a la base de datos\n",
        "conn = sqlite3.connect('productos.db')\n",
        "c = conn.cursor()\n",
        "\n",
        "# Consultar todos los productos\n",
        "c.execute('SELECT * FROM inventario')\n",
        "productos = c.fetchall()\n",
        "\n",
        "# Imprimir los productos\n",
        "for producto in productos:\n",
        "    print(producto)\n",
        "\n",
        "# Cerrar la conexión\n",
        "conn.close()"
      ],
      "metadata": {
        "id": "h5hX7jOJi5e0"
      },
      "execution_count": null,
      "outputs": []
    },
    {
      "cell_type": "markdown",
      "source": [
        "###Realizar consulta y transferir a dataframe"
      ],
      "metadata": {
        "id": "avi2CxA8jENb"
      }
    },
    {
      "cell_type": "code",
      "source": [
        "import sqlite3\n",
        "import pandas as pd\n",
        "\n",
        "# Conectar a la base de datos\n",
        "conn = sqlite3.connect('productos.db')\n",
        "\n",
        "# Realizar la consulta y cargar los resultados en un DataFrame\n",
        "query = \"SELECT * FROM inventario WHERE precio > 450\"\n",
        "df_productos = pd.read_sql_query(query, conn)\n",
        "\n",
        "# Mostrar el DataFrame\n",
        "print(df_productos)\n",
        "\n",
        "# Cerrar la conexión\n",
        "conn.close()"
      ],
      "metadata": {
        "id": "bEeffJIyjLjK"
      },
      "execution_count": null,
      "outputs": []
    },
    {
      "cell_type": "code",
      "source": [
        "df_productos.head()"
      ],
      "metadata": {
        "id": "8w4iw__ljPUq"
      },
      "execution_count": null,
      "outputs": []
    },
    {
      "cell_type": "markdown",
      "source": [
        "###Nueva consulta"
      ],
      "metadata": {
        "id": "fP2CB-88kEco"
      }
    },
    {
      "cell_type": "code",
      "source": [
        "import sqlite3\n",
        "import pandas as pd\n",
        "\n",
        "# Conectar a la base de datos\n",
        "conn = sqlite3.connect('productos.db')\n",
        "\n",
        "# Realizar la consulta y cargar los resultados en un DataFrame\n",
        "query = \"SELECT * FROM inventario WHERE precio > 480 OR cantidad < 5\"\n",
        "df_productos = pd.read_sql_query(query, conn)\n",
        "\n",
        "# Mostrar el DataFrame\n",
        "print(df_productos)\n",
        "\n",
        "\n",
        "# Cerrar la conexión\n",
        "conn.close()"
      ],
      "metadata": {
        "id": "bAiKaJqjkJnI"
      },
      "execution_count": null,
      "outputs": []
    },
    {
      "cell_type": "markdown",
      "source": [
        "###Insertar nuevo producto"
      ],
      "metadata": {
        "id": "EiXbxo_FkRfA"
      }
    },
    {
      "cell_type": "code",
      "source": [
        "# Datos del nuevo producto\n",
        "nuevo_producto = (\n",
        "    None,  # SQLite genera un nuevo id automáticamente si la columna es autoincrement\n",
        "    'NuevoProducto123',\n",
        "    'Electrónica',\n",
        "    249.99,\n",
        "    20,\n",
        "    'ProveedorX',\n",
        "    '2024-04-16',\n",
        "    'Almacén D'\n",
        ")\n",
        "\n",
        "# Conexión con la DB\n",
        "conn = sqlite3.connect('productos.db')\n",
        "c = conn.cursor()\n",
        "\n",
        "# Insersión de nuevo producto\n",
        "c.execute('INSERT INTO inventario VALUES (?, ?, ?, ?, ?, ?, ?, ?)', nuevo_producto)\n",
        "\n",
        "# Guardar (commit) los cambios y cerrar conexión con la DB\n",
        "conn.commit()\n",
        "conn.close()"
      ],
      "metadata": {
        "id": "q9EYQnSKkVun"
      },
      "execution_count": null,
      "outputs": []
    },
    {
      "cell_type": "markdown",
      "source": [
        "##Insertar nuevo producto desde Excel"
      ],
      "metadata": {
        "id": "F1KMk2yZkg0Y"
      }
    },
    {
      "cell_type": "markdown",
      "source": [
        "###Crear tabla excel de nuevos productos"
      ],
      "metadata": {
        "id": "Gc8Z1U7FkmSH"
      }
    },
    {
      "cell_type": "code",
      "source": [
        "import pandas as pd\n",
        "import numpy as np\n",
        "from datetime import datetime, timedelta\n",
        "\n",
        "np.random.seed(0)\n",
        "num_prods = 5000\n",
        "\n",
        "# Productos nuevos\n",
        "nombres = ['Producto' + str(i) for i in range(num_prods)]\n",
        "categorias = np.random.choice(['Electrónica', 'Hogar', 'Jardín', 'Moda', 'Deportes'], num_prods)\n",
        "precios = np.round(np.random.uniform(10.0, 500.0, num_prods), 2)\n",
        "cantidades = np.random.randint(1, 100, num_prods)\n",
        "proveedores = np.random.choice(['Proveedor1', 'Proveedor2', 'Proveedor3'], num_prods)\n",
        "fechas = [datetime.today() - timedelta(days=np.random.randint(0, 365)) for _ in range(num_prods)]\n",
        "ubicaciones = np.random.choice(['Almacén A', 'Almacén B', 'Almacén C'], num_prods)\n",
        "\n",
        "# DataFrame\n",
        "df = pd.DataFrame({\n",
        "    'Nombre': nombres,\n",
        "    'Categoría': categorias,\n",
        "    'Precio': precios,\n",
        "    'Cantidad': cantidades,\n",
        "    'Proveedor': proveedores,\n",
        "    'Fecha de Ingreso': pd.to_datetime(fechas),\n",
        "    'Ubicación': ubicaciones\n",
        "})\n",
        "\n",
        "print(df.head())\n",
        "\n",
        "# Guardar el DataFrame en un archivo Excel\n",
        "df.to_excel('nuevos_productos_inventario.xlsx', index=False)"
      ],
      "metadata": {
        "id": "CnhEWKsHksAQ"
      },
      "execution_count": null,
      "outputs": []
    },
    {
      "cell_type": "markdown",
      "source": [
        "###Agregar datos de tabla excelal inventario"
      ],
      "metadata": {
        "id": "LZURjkeqkyPH"
      }
    },
    {
      "cell_type": "code",
      "source": [
        "import pandas as pd\n",
        "\n",
        "# Leer archivo Excel\n",
        "ruta_archivo = '/content/nuevos_productos_inventario.xlsx'\n",
        "df = pd.read_excel(ruta_archivo)\n",
        "\n",
        "# Verificación de formatos (tipo de dato)\n",
        "# Precio a float\n",
        "if df['Precio'].dtype != 'float':\n",
        "    df['Precio'] = df['Precio'].astype(float)\n",
        "\n",
        "# Fecha de Ingreso a datetime\n",
        "if df['Fecha de Ingreso'].dtype != 'datetime64[ns]':\n",
        "    df['Fecha de Ingreso'] = pd.to_datetime(df['Fecha de Ingreso'], errors='coerce')\n",
        "\n",
        "# Verificar y corregir fechas no válidas, usando la fecha de hoy\n",
        "df['Fecha de Ingreso'].fillna(pd.Timestamp.today(), inplace=True)\n",
        "\n",
        "df.head()"
      ],
      "metadata": {
        "id": "iQ8MYas_k39Y"
      },
      "execution_count": null,
      "outputs": []
    },
    {
      "cell_type": "code",
      "source": [
        "import sqlite3\n",
        "\n",
        "# Conexión con la DB\n",
        "conn = sqlite3.connect('productos.db')\n",
        "c = conn.cursor()\n",
        "\n",
        "# Insersión de datos en la DB\n",
        "for index, row in df.iterrows():\n",
        "    c.execute(\"\"\"\n",
        "        INSERT INTO inventario (id, nombre, categoria, precio, cantidad, proveedor, fecha_ingreso, ubicacion)\n",
        "        VALUES (?, ?, ?, ?, ?, ?, ?, ?)\"\"\", (None, row['Nombre'], row['Categoría'], row['Precio'], row['Cantidad'], row['Proveedor'], row['Fecha de Ingreso'], row['Ubicación']))\n",
        "\n",
        "\n",
        "# # Insersión de datos en la DB\n",
        "# for index, row in df.iterrows():\n",
        "#     c.executemany(\"\"\"\n",
        "#         INSERT INTO inventario (nombre, categoria, precio, cantidad, proveedor, fecha_ingreso, ubicacion)\n",
        "#         VALUES(?, ?, ?, ?, ?, ?,)\"\"\",\n",
        "#         [row['Nombre'], row['Categoría'], row['Precio'], row['Cantidad'], row['Proveedor'], row['Fecha de Ingreso'], row['Ubicación']])\n",
        "\n",
        "# Guardar cambios y cerrar conexión con DB\n",
        "conn.commit()\n",
        "conn.close()\n",
        "\n",
        "print(\"¡Datos importados exitosamente!\")"
      ],
      "metadata": {
        "id": "ILBZhh7vuUSa"
      },
      "execution_count": null,
      "outputs": []
    }
  ]
}