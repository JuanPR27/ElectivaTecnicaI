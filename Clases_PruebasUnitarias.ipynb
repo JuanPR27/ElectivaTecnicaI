{
  "nbformat": 4,
  "nbformat_minor": 0,
  "metadata": {
    "colab": {
      "provenance": [],
      "authorship_tag": "ABX9TyM/MgpA9cKyr5ZKBjoU8yOo",
      "include_colab_link": true
    },
    "kernelspec": {
      "name": "python3",
      "display_name": "Python 3"
    },
    "language_info": {
      "name": "python"
    }
  },
  "cells": [
    {
      "cell_type": "markdown",
      "metadata": {
        "id": "view-in-github",
        "colab_type": "text"
      },
      "source": [
        "<a href=\"https://colab.research.google.com/github/JuanPR27/ElectivaTecnicaI/blob/main/Clases_PruebasUnitarias.ipynb\" target=\"_parent\"><img src=\"https://colab.research.google.com/assets/colab-badge.svg\" alt=\"Open In Colab\"/></a>"
      ]
    },
    {
      "cell_type": "markdown",
      "source": [
        "CLASES_Y_PRUEBAS_UNITARIAS"
      ],
      "metadata": {
        "id": "B8UJh8wBWHji"
      }
    },
    {
      "cell_type": "markdown",
      "source": [
        "### **Importar la libreria**"
      ],
      "metadata": {
        "id": "_bvWkOofUSsb"
      }
    },
    {
      "cell_type": "code",
      "source": [
        "#Llamamos la libreria\n",
        "from datetime import date\n"
      ],
      "metadata": {
        "id": "Wsor8_mRUXqi"
      },
      "execution_count": null,
      "outputs": []
    },
    {
      "cell_type": "markdown",
      "source": [
        "# **Clase Person**"
      ],
      "metadata": {
        "id": "Dqz3PkIhUZB6"
      }
    },
    {
      "cell_type": "code",
      "execution_count": 1,
      "metadata": {
        "id": "P_e4nwpRG8WL"
      },
      "outputs": [],
      "source": [
        "\n",
        "\n",
        "#Clase principal\n",
        "class Person:\n",
        "#Atributos de la clase\n",
        "    def __init__ (self, n, e, b):\n",
        "        self. __name = n\n",
        "        self.set_email(e)\n",
        "        self.__age = self.calculateAge(b)\n",
        "\n",
        "    def calculateAge(self, b):\n",
        "        days_in_year = 365.2425\n",
        "        age = int((date.today() - b). days / days_in_year)\n",
        "        return age\n",
        "\n",
        "    def set_email(self, e):\n",
        "        if e.count(\"@\") == 1 and e.find(\"@\") >= 1 and e.find(\"@\") + 2 < e.rfind(\".\"):\n",
        "          self.__email = e\n",
        "        else:\n",
        "            print(\"Invalid Email\", e)\n",
        "\n",
        "    def get_email(self):\n",
        "        return self.__email\n",
        "\n",
        "    def get_name(self):\n",
        "        return self.__name\n",
        "\n",
        "    def set_name(self, n):\n",
        "        self.__name = n\n",
        "\n",
        "    def get_age(self):\n",
        "        return self.__age\n",
        "\n",
        "    def __eq__(self, other):\n",
        "        return self.__name == other.__name\n",
        "\n",
        "    def __str__(self):\n",
        "        return (\"name: \" + self.__name + '\\t email: ' + self.__email + '\\t age: ' + str(self.__age))\n",
        "\n",
        "\n"
      ]
    },
    {
      "cell_type": "markdown",
      "source": [
        "# **Class Student**"
      ],
      "metadata": {
        "id": "s4p15i8iT42y"
      }
    },
    {
      "cell_type": "code",
      "source": [
        "class Student(Person):\n",
        "    def __init__(self, n, e, b, ID):\n",
        "        super().__init__(n, e, b)  # Usar Super()\n",
        "        self.__SID = ID\n",
        "        self.__Courses = dict()\n",
        "        self.__AverageGrade = 0\n",
        "\n",
        "    def addCourses(self, CourseID, result):\n",
        "        self.__Courses[CourseID] = result\n",
        "        self.calculateAverage()\n",
        "\n",
        "    def calculateAverage(self):\n",
        "        if len(self.__Courses) > 0:\n",
        "            total = sum(self.__Courses.values())\n",
        "            self.__AverageGrade = total / len(self.__Courses)\n",
        "        else:\n",
        "            self.__AverageGrade = 0\n",
        "\n",
        "    def get_AverageGrade(self):\n",
        "        return self.__AverageGrade\n",
        "\n",
        "    def get_SID(self):\n",
        "        return self.__SID\n",
        "\n",
        "    def get_Courses(self):\n",
        "        return self.__Courses\n",
        "\n",
        "    def set_SID(self, ID):\n",
        "        self.__SID = ID\n",
        "\n",
        "    def __str__(self):\n",
        "        return (super().__str__() + '\\t SID: ' + str(self.__SID) + '\\t Courses: ' + str(self.__Courses) + '\\t AverageGrade: ' + str(self.__AverageGrade))\n",
        "\n",
        "    def __eq__(self, other):\n",
        "        return isinstance(other, Student) and self.__SID == other.__SID  # Compara por ID\n",
        "\n",
        "    def __lt__(self, other):\n",
        "        return self.__AverageGrade < other.__AverageGrade"
      ],
      "metadata": {
        "id": "vUdcGeWyT3gD"
      },
      "execution_count": 2,
      "outputs": []
    },
    {
      "cell_type": "markdown",
      "source": [
        "# **Uso y Ejemplo de Búsqueda**"
      ],
      "metadata": {
        "id": "QyJeWTf8WZdS"
      }
    },
    {
      "cell_type": "code",
      "source": [
        "# Lista de Estudiantes\n",
        "students_list = []\n",
        "\n",
        "S1 = Student(\"Juan\", \"kh@hotmail.com\", date(2007, 2, 3), 123)\n",
        "S1.addCourses(\"CS120\", 90)\n",
        "S1.addCourses(\"IT320\", 95)\n",
        "S1.addCourses(\"CS100\", 95)\n",
        "\n",
        "S2 = Student(\"Manuel\", \"Manuel@gmail.com\", date(2008, 9, 3), 232)\n",
        "S2.addCourses(\"CS120\", 80)\n",
        "S2.addCourses(\"IT320\", 75)\n",
        "S2.addCourses(\"CS100\", 95)\n",
        "\n",
        "S3 = Student(\"Juanma\", \"khaled@gamil.com\", date(2009, 5, 6), 235)\n",
        "S3.addCourses(\"CS120\", 75)\n",
        "S3.addCourses(\"IT320\", 88)\n",
        "S3.addCourses(\"CS100\", 90)\n",
        "\n",
        "students_list.append(S1)\n",
        "students_list.append(S2)\n",
        "students_list.append(S3)\n",
        "\n",
        "# Búsqueda\n",
        "searchs = Student(\"Manuel\", \"Manuel@gmail.com\", date(1995, 9, 3), 232)\n",
        "\n",
        "if students_list.count(searchs) > 0:\n",
        "    print(\"the student is found\")\n",
        "else:\n",
        "    print(\"the student is NOT found\")\n",
        "\n",
        "students_list.sort()\n",
        "for p in students_list:\n",
        "    print(p)"
      ],
      "metadata": {
        "id": "EC15ZF34Wgoy"
      },
      "execution_count": null,
      "outputs": []
    }
  ]
}