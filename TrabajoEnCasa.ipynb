{
  "nbformat": 4,
  "nbformat_minor": 0,
  "metadata": {
    "colab": {
      "provenance": [],
      "authorship_tag": "ABX9TyMufMT5akDy4X/BcoSNPRa0",
      "include_colab_link": true
    },
    "kernelspec": {
      "name": "python3",
      "display_name": "Python 3"
    },
    "language_info": {
      "name": "python"
    }
  },
  "cells": [
    {
      "cell_type": "markdown",
      "metadata": {
        "id": "view-in-github",
        "colab_type": "text"
      },
      "source": [
        "<a href=\"https://colab.research.google.com/github/JuanPR27/ElectivaTecnicaI/blob/main/TrabajoEnCasa.ipynb\" target=\"_parent\"><img src=\"https://colab.research.google.com/assets/colab-badge.svg\" alt=\"Open In Colab\"/></a>"
      ]
    },
    {
      "cell_type": "code",
      "execution_count": null,
      "metadata": {
        "id": "2zRr-cDJXuft"
      },
      "outputs": [],
      "source": []
    },
    {
      "cell_type": "markdown",
      "source": [
        "Parametros posicionales"
      ],
      "metadata": {
        "id": "xKY-r_HTXxKZ"
      }
    },
    {
      "cell_type": "code",
      "source": [
        "def suma(a, b):\n",
        "        return a + b\n",
        "\n",
        "        resultado = suma(5, 3)\n",
        "        print(resultado)  # 8"
      ],
      "metadata": {
        "id": "001S8KSdX0bn"
      },
      "execution_count": null,
      "outputs": []
    },
    {
      "cell_type": "markdown",
      "source": [
        "Valores Predeterminados"
      ],
      "metadata": {
        "id": "vqo2RNVtX_jm"
      }
    },
    {
      "cell_type": "code",
      "source": [
        "def saludar(nombre=\"Mundo\"):\n",
        "        print(f\"Hola, {nombre}\")\n",
        "\n",
        "        saludar()        # Hola, Mundo\n",
        "        saludar(\"Ana\")   # Hola, Ana"
      ],
      "metadata": {
        "id": "KyQAbnqJYE7N"
      },
      "execution_count": null,
      "outputs": []
    },
    {
      "cell_type": "markdown",
      "source": [
        "Parámetros con nombre"
      ],
      "metadata": {
        "id": "gUDLlrsNYN9Y"
      }
    },
    {
      "cell_type": "code",
      "source": [
        "def info(nombre, edad=25):\n",
        "        print(f\"{nombre}: {edad}\")\n",
        "\n",
        "        info(edad=30, nombre=\"Luis\")  # Luis: 30"
      ],
      "metadata": {
        "id": "LyaQeho7YVlb"
      },
      "execution_count": null,
      "outputs": []
    },
    {
      "cell_type": "markdown",
      "source": [
        "Parámetros de longitud variable"
      ],
      "metadata": {
        "id": "LrBN1-2IYc7-"
      }
    },
    {
      "cell_type": "code",
      "source": [
        "def suma_varios(*args):\n",
        "        return sum(args)\n",
        "\n",
        "        print(suma_varios(1, 2, 3))  # 6\n",
        "\n",
        "\n",
        "        def mostrar_info(**kwargs):\n",
        "            for k, v in kwargs.items():\n",
        "                    print(f\"{k}: {v}\")\n",
        "\n",
        "                    mostrar_info(nombre=\"Juan\", edad=22, ciudad=\"Bogotá\")"
      ],
      "metadata": {
        "id": "WofCHNi4Yh9n"
      },
      "execution_count": null,
      "outputs": []
    }
  ]
}